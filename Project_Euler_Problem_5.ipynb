{
  "nbformat": 4,
  "nbformat_minor": 0,
  "metadata": {
    "colab": {
      "name": "Project_Euler_Problem_5.ipynb",
      "provenance": [],
      "authorship_tag": "ABX9TyP2awcsv+qoh2h6jjQn+ZrV",
      "include_colab_link": true
    },
    "kernelspec": {
      "name": "python3",
      "display_name": "Python 3"
    }
  },
  "cells": [
    {
      "cell_type": "markdown",
      "metadata": {
        "id": "view-in-github",
        "colab_type": "text"
      },
      "source": [
        "<a href=\"https://colab.research.google.com/github/euguroglu/Project_Euler/blob/master/Project_Euler_Problem_5.ipynb\" target=\"_parent\"><img src=\"https://colab.research.google.com/assets/colab-badge.svg\" alt=\"Open In Colab\"/></a>"
      ]
    },
    {
      "cell_type": "code",
      "metadata": {
        "id": "mPHt-KFYgTyf",
        "colab_type": "code",
        "colab": {
          "base_uri": "https://localhost:8080/",
          "height": 34
        },
        "outputId": "f76dfc08-33a6-48ec-e497-0e6d49f426f1"
      },
      "source": [
        "check = range(10,21)\n",
        "a = 21\n",
        "b = False\n",
        "\n",
        "while b == False:\n",
        "    if a % 2520 == 0:\n",
        "        if all(a % n ==0 for n in check):\n",
        "            b = True\n",
        "        else:\n",
        "            a = a + 2520\n",
        "    else:\n",
        "        a = a + 1\n",
        "print(a)"
      ],
      "execution_count": 7,
      "outputs": [
        {
          "output_type": "stream",
          "text": [
            "232792560\n"
          ],
          "name": "stdout"
        }
      ]
    },
    {
      "cell_type": "code",
      "metadata": {
        "id": "bzwmrc54gUXI",
        "colab_type": "code",
        "colab": {}
      },
      "source": [
        ""
      ],
      "execution_count": null,
      "outputs": []
    }
  ]
}