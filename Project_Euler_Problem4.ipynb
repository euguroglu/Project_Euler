{
  "nbformat": 4,
  "nbformat_minor": 0,
  "metadata": {
    "colab": {
      "name": "Project_Euler_Problem4.ipynb",
      "provenance": [],
      "authorship_tag": "ABX9TyOPZT+aYg7Uwk5dTmSm3ABr",
      "include_colab_link": true
    },
    "kernelspec": {
      "name": "python3",
      "display_name": "Python 3"
    }
  },
  "cells": [
    {
      "cell_type": "markdown",
      "metadata": {
        "id": "view-in-github",
        "colab_type": "text"
      },
      "source": [
        "<a href=\"https://colab.research.google.com/github/euguroglu/Project_Euler/blob/master/Project_Euler_Problem4.ipynb\" target=\"_parent\"><img src=\"https://colab.research.google.com/assets/colab-badge.svg\" alt=\"Open In Colab\"/></a>"
      ]
    },
    {
      "cell_type": "code",
      "metadata": {
        "id": "xVtUJJgCoZHB",
        "colab_type": "code",
        "colab": {
          "base_uri": "https://localhost:8080/",
          "height": 34
        },
        "outputId": "5f8b265f-10ec-409c-a8e8-2762146b9f3e"
      },
      "source": [
        "Palindrome = []\n",
        "for i in range(999,100,-1):\n",
        "  for j in range(999,100,-1):\n",
        "    c = str(i*j)\n",
        "    b = c[::-1]\n",
        "    if c[0:3]==b[0:3]:\n",
        "      Palindrome.append(int(c))\n",
        "      break\n",
        "print('Largest palindrome number is {}'.format(max(Palindrome)))\n"
      ],
      "execution_count": 97,
      "outputs": [
        {
          "output_type": "stream",
          "text": [
            "Largest palindrome number is 906609\n"
          ],
          "name": "stdout"
        }
      ]
    }
  ]
}