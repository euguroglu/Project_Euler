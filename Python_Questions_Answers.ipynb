{
 "cells": [
  {
   "cell_type": "markdown",
   "metadata": {},
   "source": [
    "## 1.\tDictionary Woes\n",
    "\n",
    "A proprietary API for querying a remote data service returns data rows in key/value dictionaries, but the key name case is unreliable.  They are always well formed in regard to using underscore for spaces, but the case tends to be unreliable.  For example: CuStoMer_NAMe, CUSTOMER_name, Customer_Name, customer_name.  We need to standardize the dictionary key case on all records before inserting the dictionary into mongodb.  Define and implement a python3 function named “fixup_case” that takes a dictionary as an argument and returns a dictionary with its key names standardized.  Explain the method of standardization you picked and why.\n"
   ]
  },
  {
   "cell_type": "code",
   "execution_count": 121,
   "metadata": {},
   "outputs": [],
   "source": [
    "list = []\n",
    "id_list = [0]\n",
    "def fixup_case(rows):\n",
    "    for k, v in rows.items():\n",
    "        list.append((k.lower()+\"_{}\".format(max(id_list)+1),v))\n",
    "        id_list.append(max(id_list)+1)\n",
    "    return dict(list)"
   ]
  },
  {
   "cell_type": "code",
   "execution_count": 122,
   "metadata": {},
   "outputs": [],
   "source": [
    "rows = {\"CuStoMer_NAMe\":\"Enes\",\"CuStomer_NAMe\":\"Dilara\"}"
   ]
  },
  {
   "cell_type": "code",
   "execution_count": 123,
   "metadata": {},
   "outputs": [
    {
     "data": {
      "text/plain": [
       "{'customer_name_1': 'Enes', 'customer_name_2': 'Dilara'}"
      ]
     },
     "execution_count": 123,
     "metadata": {},
     "output_type": "execute_result"
    }
   ],
   "source": [
    "fixup_case(rows)"
   ]
  },
  {
   "cell_type": "code",
   "execution_count": 124,
   "metadata": {},
   "outputs": [],
   "source": [
    "new_rows = {\"customer_NAME\":\"George\",\"custoMER_NAme\":\"Micheal\"}"
   ]
  },
  {
   "cell_type": "code",
   "execution_count": 125,
   "metadata": {},
   "outputs": [
    {
     "data": {
      "text/plain": [
       "{'customer_name_1': 'Enes',\n",
       " 'customer_name_2': 'Dilara',\n",
       " 'customer_name_3': 'George',\n",
       " 'customer_name_4': 'Micheal'}"
      ]
     },
     "execution_count": 125,
     "metadata": {},
     "output_type": "execute_result"
    }
   ],
   "source": [
    "fixup_case(new_rows)"
   ]
  },
  {
   "cell_type": "markdown",
   "metadata": {},
   "source": [
    "### Solution Explanation:"
   ]
  },
  {
   "cell_type": "markdown",
   "metadata": {},
   "source": [
    "I have chosen .lower() method which is Python built in function and that way code will be environment undependant. I also added \"id_list\" varible because otherwise we may face lack of information when more than 1 keys are same in the same rows of data. id_lists are storing inside of the list and if we store this information into database we can keep track of our current id and increment it when we have new data. "
   ]
  },
  {
   "cell_type": "markdown",
   "metadata": {},
   "source": [
    "## 2.\tArgument Salad\n",
    "Python3 functions can take a mix of positional and named arguments.  Define a function that takes one required argument and two optional arguments with default values.\n"
   ]
  },
  {
   "cell_type": "code",
   "execution_count": 191,
   "metadata": {},
   "outputs": [],
   "source": [
    "def cosine_func_salad(alpha, b=10, c=20):\n",
    "    alpha = math.radians(alpha)\n",
    "    a = math.sqrt((b**2 + c**2) - (2*b*c*math.cos(alpha)))\n",
    "    return a"
   ]
  },
  {
   "cell_type": "code",
   "execution_count": 194,
   "metadata": {},
   "outputs": [
    {
     "data": {
      "text/plain": [
       "10.29936399954467"
      ]
     },
     "execution_count": 194,
     "metadata": {},
     "output_type": "execute_result"
    }
   ],
   "source": [
    "import math\n",
    "cosine_func_salad(10,10,20)"
   ]
  },
  {
   "cell_type": "code",
   "execution_count": 201,
   "metadata": {},
   "outputs": [
    {
     "data": {
      "text/plain": [
       "2.521702569420599"
      ]
     },
     "execution_count": 201,
     "metadata": {},
     "output_type": "execute_result"
    }
   ],
   "source": [
    "cosine_func_salad(30,4,5)"
   ]
  },
  {
   "cell_type": "markdown",
   "metadata": {},
   "source": [
    "### Solution Explanation:\n",
    "Here I defined cosine function that calculates third edge of the triangle for given values of other 2 edges and degree value in between. Alpha value here is positional argument which is a required value, while edge values (b, c) are named arguments which are optional."
   ]
  },
  {
   "cell_type": "markdown",
   "metadata": {},
   "source": [
    "## 3.\tType Troubles\n",
    "Implement a python3 function that accepts one argument named “pet”, but acts differently based on the type of object passed in.  If the function is passed a Dog object, call the bark() method on the object.  If the function is passed a Cat object, call the meow() method on the object.  If neither a Dog or Cat is passed, raise an exception.\n"
   ]
  },
  {
   "cell_type": "code",
   "execution_count": 252,
   "metadata": {},
   "outputs": [],
   "source": [
    "class Methods_Cat_Dog():\n",
    "    \n",
    "    def bark():\n",
    "        print(\"Bark\")\n",
    "    def meow():\n",
    "        print(\"Meow\")"
   ]
  },
  {
   "cell_type": "code",
   "execution_count": 254,
   "metadata": {},
   "outputs": [],
   "source": [
    "class Cat_or_Dog(Methods_Cat_Dog):\n",
    "    def __init__(self, pet):\n",
    "        self.pet = pet\n",
    "    \n",
    "        if self.pet == \"Dog\":\n",
    "            Cat_or_Dog.bark()\n",
    "        elif self.pet == \"Cat\":\n",
    "            Cat_or_Dog.meow()\n",
    "        else:\n",
    "            raise Exception(\"Wrong\")\n"
   ]
  },
  {
   "cell_type": "code",
   "execution_count": 255,
   "metadata": {},
   "outputs": [
    {
     "name": "stdout",
     "output_type": "stream",
     "text": [
      "Bark\n"
     ]
    },
    {
     "data": {
      "text/plain": [
       "<__main__.Cat_or_Dog at 0x29c9eab2f40>"
      ]
     },
     "execution_count": 255,
     "metadata": {},
     "output_type": "execute_result"
    }
   ],
   "source": [
    "Cat_or_Dog(\"Dog\")"
   ]
  },
  {
   "cell_type": "code",
   "execution_count": 256,
   "metadata": {},
   "outputs": [
    {
     "name": "stdout",
     "output_type": "stream",
     "text": [
      "Meow\n"
     ]
    },
    {
     "data": {
      "text/plain": [
       "<__main__.Cat_or_Dog at 0x29c9ea5fb50>"
      ]
     },
     "execution_count": 256,
     "metadata": {},
     "output_type": "execute_result"
    }
   ],
   "source": [
    "Cat_or_Dog(\"Cat\")"
   ]
  },
  {
   "cell_type": "code",
   "execution_count": 257,
   "metadata": {},
   "outputs": [
    {
     "ename": "Exception",
     "evalue": "Wrong",
     "output_type": "error",
     "traceback": [
      "\u001b[1;31m---------------------------------------------------------------------------\u001b[0m",
      "\u001b[1;31mException\u001b[0m                                 Traceback (most recent call last)",
      "\u001b[1;32m<ipython-input-257-6facac3bdaaf>\u001b[0m in \u001b[0;36m<module>\u001b[1;34m\u001b[0m\n\u001b[1;32m----> 1\u001b[1;33m \u001b[0mCat_or_Dog\u001b[0m\u001b[1;33m(\u001b[0m\u001b[1;34m\"Bird\"\u001b[0m\u001b[1;33m)\u001b[0m\u001b[1;33m\u001b[0m\u001b[1;33m\u001b[0m\u001b[0m\n\u001b[0m",
      "\u001b[1;32m<ipython-input-254-1cc693ae1441>\u001b[0m in \u001b[0;36m__init__\u001b[1;34m(self, pet)\u001b[0m\n\u001b[0;32m      8\u001b[0m             \u001b[0mCat_or_Dog\u001b[0m\u001b[1;33m.\u001b[0m\u001b[0mmeow\u001b[0m\u001b[1;33m(\u001b[0m\u001b[1;33m)\u001b[0m\u001b[1;33m\u001b[0m\u001b[1;33m\u001b[0m\u001b[0m\n\u001b[0;32m      9\u001b[0m         \u001b[1;32melse\u001b[0m\u001b[1;33m:\u001b[0m\u001b[1;33m\u001b[0m\u001b[1;33m\u001b[0m\u001b[0m\n\u001b[1;32m---> 10\u001b[1;33m             \u001b[1;32mraise\u001b[0m \u001b[0mException\u001b[0m\u001b[1;33m(\u001b[0m\u001b[1;34m\"Wrong\"\u001b[0m\u001b[1;33m)\u001b[0m\u001b[1;33m\u001b[0m\u001b[1;33m\u001b[0m\u001b[0m\n\u001b[0m",
      "\u001b[1;31mException\u001b[0m: Wrong"
     ]
    }
   ],
   "source": [
    "Cat_or_Dog(\"Bird\")"
   ]
  },
  {
   "cell_type": "markdown",
   "metadata": {},
   "source": [
    "### Solution Explanation\n",
    "When I read the question it seems to me good example of inheritance for object. Simply I defined a method object which includes bark() and meow() methods and I defined Cat_or_Dog object to accept \"pet\" argument and according to type of the pet, related methods called which inherited before."
   ]
  },
  {
   "cell_type": "markdown",
   "metadata": {},
   "source": [
    "## 4.\tLists of Lists\n",
    "Implement a python3 code snippet that iterates a list of lists.  For each inner list encountered, print a header that says “List X” where X is the number of the inner list (i.e. “List 1”… “List 5”).  After the “List X” header, print the sum of all items in the inner list.  Do this for all inner lists contained in the outer list. \n"
   ]
  },
  {
   "cell_type": "code",
   "execution_count": 262,
   "metadata": {},
   "outputs": [
    {
     "name": "stdout",
     "output_type": "stream",
     "text": [
      "List 0\n",
      "3\n",
      "List 1\n",
      "12\n",
      "List 2\n",
      "6\n",
      "List 3\n",
      "18\n"
     ]
    }
   ],
   "source": [
    "for i in list:\n",
    "    print(\"List {}\".format(list.index(i)))\n",
    "    print(sum(i))"
   ]
  },
  {
   "cell_type": "markdown",
   "metadata": {},
   "source": [
    "### Solution Explanation\n",
    "I used format print method to show number of list item using positional argument and sum method to calculate sum of all items inside of the inner lists."
   ]
  },
  {
   "cell_type": "markdown",
   "metadata": {},
   "source": [
    "## 5.\tMutually Exclusive Access\n",
    "Write a python3 function called “increment_count” that takes one argument names “by”.  Whatever value is passed in via the “by” argument should be added to a global variable “the_count”.  Before exiting, a global variable named “last_by” should be updated with with the value that was passed in via the “by” argument.  This function should be THREAD SAFE and utilize a global Lock variable defined outside the function to isolate the update of both “the_count” and “last_by” in the same exclusive access block.  Extra credit for utilizing python3 context management protocol, which is supported by Locks in this scenario.\n"
   ]
  },
  {
   "cell_type": "code",
   "execution_count": 263,
   "metadata": {},
   "outputs": [],
   "source": [
    "import threading\n",
    "the_count = 0\n",
    "last_by = 0\n",
    "lock = threading.Lock()\n",
    "def increment_count(by):\n",
    "    global the_count\n",
    "    global last_by\n",
    "    with lock:\n",
    "        the_count = the_count + by\n",
    "    with lock:\n",
    "        last_by = by"
   ]
  },
  {
   "cell_type": "code",
   "execution_count": 264,
   "metadata": {},
   "outputs": [],
   "source": [
    "increment_count(4)"
   ]
  },
  {
   "cell_type": "code",
   "execution_count": 265,
   "metadata": {},
   "outputs": [
    {
     "data": {
      "text/plain": [
       "4"
      ]
     },
     "execution_count": 265,
     "metadata": {},
     "output_type": "execute_result"
    }
   ],
   "source": [
    "the_count"
   ]
  },
  {
   "cell_type": "code",
   "execution_count": 266,
   "metadata": {},
   "outputs": [
    {
     "data": {
      "text/plain": [
       "4"
      ]
     },
     "execution_count": 266,
     "metadata": {},
     "output_type": "execute_result"
    }
   ],
   "source": [
    "last_by"
   ]
  },
  {
   "cell_type": "code",
   "execution_count": 267,
   "metadata": {},
   "outputs": [],
   "source": [
    "increment_count(21)"
   ]
  },
  {
   "cell_type": "code",
   "execution_count": 268,
   "metadata": {},
   "outputs": [
    {
     "data": {
      "text/plain": [
       "25"
      ]
     },
     "execution_count": 268,
     "metadata": {},
     "output_type": "execute_result"
    }
   ],
   "source": [
    "the_count"
   ]
  },
  {
   "cell_type": "code",
   "execution_count": 269,
   "metadata": {},
   "outputs": [
    {
     "data": {
      "text/plain": [
       "21"
      ]
     },
     "execution_count": 269,
     "metadata": {},
     "output_type": "execute_result"
    }
   ],
   "source": [
    "last_by"
   ]
  },
  {
   "cell_type": "markdown",
   "metadata": {},
   "source": [
    "### Solution Explanation\n",
    "Here I used lock method from threading library which is used to protect counting operations and that way we avoid processing same counting operation in more than 1 thread at the same time."
   ]
  },
  {
   "attachments": {
    "resim.png": {
     "image/png": "[encoded data removed]"
    }
   },
   "cell_type": "markdown",
   "metadata": {},
   "source": [
    "## 6.\tAnimals\n",
    "Write a python3 program that defines an Animal base class and three derived classes that inherit from Animal: Cat, Dog, and Fish classes.  \n",
    "The Animal base class should take the animal’s name (such as “rover”) as an argument to its constructor.  The Animal class should have a method “whoami” that returns the name value to the caller.  The animal class should have an implementation of the “speak” method that prints out “The animal refuses to speak”—this will be a default method incase no derived class implements it.\n",
    "Three derived classes (Cat, Dog, and Fish) should take name as their constructor argument and in turn pass it to the Animal base class constructor.  Extra credit for utilizing python 3.1’s new enhanced super() function to avoid hard coding the base class name.  The Cat class should implement a “speak” method that prints “Meow!”.  The Dog class should implement a “speak” method that prints “Woof!”.  The Fish class should not implement a “speak” method, as fish do not speak.\n",
    "Once the base class and three derived classes are written, create a mainline program/script (in the same file) that creates an empty list named “animals” and then appends a Dog named “Rover”, a Cat named “Hank”, and a Fish named “Fred” to the list.  After the list is populated with the three derived Animal instances, iterate the list and for each animal, print the animal’s name and then call it’s speak method.  The output should appear as follows.\n",
    "This animal's name is Rover\n",
    "Woof!\n",
    "This animal's name is Hank\n",
    "Meow!\n",
    "This animal's name is Fred\n",
    "The animal refuses to speak\n",
    "\n",
    "![resim.png](attachment:resim.png)"
   ]
  },
  {
   "cell_type": "code",
   "execution_count": 36,
   "metadata": {},
   "outputs": [
    {
     "name": "stdout",
     "output_type": "stream",
     "text": [
      "This animal's name is Rover\n",
      "Woof!\n",
      "This animal's name is Hank\n",
      "Meow!\n",
      "This animal's name is Fred\n",
      "The animal refuses to speak\n"
     ]
    }
   ],
   "source": [
    "class Animal():\n",
    "    def __init__(self, name):\n",
    "        self.name = name\n",
    "    \n",
    "    def whoami(self):\n",
    "        print(\"This animal's name is {}\".format(self.name))\n",
    "        \n",
    "    def speak(self):\n",
    "        print(\"The animal refuses to speak\")\n",
    "\n",
    "class Dog(Animal):\n",
    "    def __init__(self, name):\n",
    "        super().__init__(name)\n",
    "    \n",
    "    def speak(self):\n",
    "        print(\"Woof!\")\n",
    "\n",
    "class Cat(Animal):\n",
    "    def __init__(self, name):\n",
    "        super().__init__(name)\n",
    "    \n",
    "    def speak(self):\n",
    "        print(\"Meow!\")\n",
    "\n",
    "class Fish(Animal):\n",
    "    def __init__(self, name):\n",
    "        super().__init__(name)\n",
    "        \n",
    "def Animal_list(Dog_n,Cat_n,Fish_n):\n",
    "    animals = []\n",
    "    list0 = Dog(\"{}\".format(Dog_n))\n",
    "    list1 = Cat(\"{}\".format(Cat_n))\n",
    "    list2 = Fish(\"{}\".format(Fish_n))\n",
    "    animals.append(list0)\n",
    "    animals.append(list1)\n",
    "    animals.append(list2)\n",
    "    for animal in animals:\n",
    "        animal.whoami()\n",
    "        animal.speak()\n",
    "Animal_list(\"Rover\",\"Hank\",\"Fred\")"
   ]
  },
  {
   "cell_type": "markdown",
   "metadata": {},
   "source": [
    "## 7.\tThreads and Processes\n",
    "Without using 3rd party libraries (only things included in python3+), create a python program that starts 4 additional processes, each of which start 10 threads.  Each thread waits for strings to be sent via a thread and processor safe Queue.  When any thread receives a string, it prints out its thread id as well as the string.  Each thread monitors a thread and processor safe Event and when the event is set, each thread should print an exit message and terminate, but only if there is no more data to be read on the Queue. The mainline of the program (which spawned the processes) should send 100 different strings to the Queue, causing strings to be available for receiving by the 40 threads.  When the mainline is done, set the exit Event to trigger the 40 threads to gracefully exit.\n",
    "Hint: Compare multiprocess and threading modules and decide which to use when utilizing processes.  One can be used in both situations, the other cannot.\n"
   ]
  },
  {
   "cell_type": "code",
   "execution_count": null,
   "metadata": {},
   "outputs": [],
   "source": [
    "import threading \n",
    "  \n",
    "def print_cube(num): \n",
    "    \"\"\" \n",
    "    function to print cube of given num \n",
    "    \"\"\"\n",
    "    print(\"Cube: {}\".format(num * num * num)) \n",
    "  \n",
    "def print_square(num): \n",
    "    \"\"\" \n",
    "    function to print square of given num \n",
    "    \"\"\"\n",
    "    print(\"Square: {}\".format(num * num)) \n",
    "  \n",
    "if __name__ == \"__main__\": \n",
    "    # creating thread \n",
    "    t1 = threading.Thread(target=print_square, args=(10,)) \n",
    "    t2 = threading.Thread(target=print_cube, args=(10,)) \n",
    "  \n",
    "    # starting thread 1 \n",
    "    t1.start() \n",
    "    # starting thread 2 \n",
    "    t2.start() \n",
    "  \n",
    "    # wait until thread 1 is completely executed \n",
    "    t1.join() \n",
    "    # wait until thread 2 is completely executed \n",
    "    t2.join() \n",
    "  \n",
    "    # both threads completely executed \n",
    "    print(\"Done!\") \n"
   ]
  }
 ],
 "metadata": {
  "kernelspec": {
   "display_name": "Python 3",
   "language": "python",
   "name": "python3"
  },
  "language_info": {
   "codemirror_mode": {
    "name": "ipython",
    "version": 3
   },
   "file_extension": ".py",
   "mimetype": "text/x-python",
   "name": "python",
   "nbconvert_exporter": "python",
   "pygments_lexer": "ipython3",
   "version": "3.8.5"
  }
 },
 "nbformat": 4,
 "nbformat_minor": 4
}
